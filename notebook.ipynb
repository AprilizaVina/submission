{
  "cells": [
    {
      "cell_type": "markdown",
      "metadata": {
        "id": "H9wADwK78DCz"
      },
      "source": [
        "# Proyek Analisis Data: [E-Comerce Public Dataset]\n",
        "- **Nama:** [Apriliza Vina Hasanah]\n",
        "- **Email:** [aprilizavina@gmail.com]\n",
        "- **ID Dicoding:** [apriliza_vina]"
      ]
    },
    {
      "cell_type": "markdown",
      "metadata": {
        "id": "eE0raob58DC0"
      },
      "source": [
        "## Menentukan Pertanyaan Bisnis"
      ]
    },
    {
      "cell_type": "markdown",
      "metadata": {
        "id": "GmQeQ5YF8DC0"
      },
      "source": [
        "- Tipe pembayaran apa yang paling banyak digunakan oleh customer?\n",
        "- Produk category apa yang paling banyak terjual dan paling sedikit?\n",
        "- Manakah kota dengan rate penjualan tertinggi? "
      ]
    },
    {
      "cell_type": "markdown",
      "metadata": {
        "id": "H-z4QGlO8DC1"
      },
      "source": [
        "## Import Semua Packages/Library yang Digunakan"
      ]
    },
    {
      "cell_type": "code",
      "execution_count": 153,
      "metadata": {
        "id": "FVYwaObI8DC1"
      },
      "outputs": [],
      "source": [
        "import numpy as np\n",
        "import pandas as pd\n",
        "import matplotlib.pyplot as plt\n",
        "import seaborn as sns"
      ]
    },
    {
      "cell_type": "markdown",
      "metadata": {
        "id": "h_Sh51Xy8DC1"
      },
      "source": [
        "## Data Wrangling"
      ]
    },
    {
      "cell_type": "markdown",
      "metadata": {
        "id": "sXU2GBYu8DC1"
      },
      "source": [
        "### Gathering Data"
      ]
    },
    {
      "cell_type": "markdown",
      "metadata": {},
      "source": [
        "#### Menambahkan Data Payments"
      ]
    },
    {
      "cell_type": "code",
      "execution_count": 154,
      "metadata": {
        "id": "zjCBk1BI8DC1"
      },
      "outputs": [
        {
          "data": {
            "text/html": [
              "<div>\n",
              "<style scoped>\n",
              "    .dataframe tbody tr th:only-of-type {\n",
              "        vertical-align: middle;\n",
              "    }\n",
              "\n",
              "    .dataframe tbody tr th {\n",
              "        vertical-align: top;\n",
              "    }\n",
              "\n",
              "    .dataframe thead th {\n",
              "        text-align: right;\n",
              "    }\n",
              "</style>\n",
              "<table border=\"1\" class=\"dataframe\">\n",
              "  <thead>\n",
              "    <tr style=\"text-align: right;\">\n",
              "      <th></th>\n",
              "      <th>order_id</th>\n",
              "      <th>payment_sequential</th>\n",
              "      <th>payment_type</th>\n",
              "      <th>payment_installments</th>\n",
              "      <th>payment_value</th>\n",
              "    </tr>\n",
              "  </thead>\n",
              "  <tbody>\n",
              "    <tr>\n",
              "      <th>0</th>\n",
              "      <td>b81ef226f3fe1789b1e8b2acac839d17</td>\n",
              "      <td>1</td>\n",
              "      <td>credit_card</td>\n",
              "      <td>8</td>\n",
              "      <td>99.33</td>\n",
              "    </tr>\n",
              "    <tr>\n",
              "      <th>1</th>\n",
              "      <td>a9810da82917af2d9aefd1278f1dcfa0</td>\n",
              "      <td>1</td>\n",
              "      <td>credit_card</td>\n",
              "      <td>1</td>\n",
              "      <td>24.39</td>\n",
              "    </tr>\n",
              "    <tr>\n",
              "      <th>2</th>\n",
              "      <td>25e8ea4e93396b6fa0d3dd708e76c1bd</td>\n",
              "      <td>1</td>\n",
              "      <td>credit_card</td>\n",
              "      <td>1</td>\n",
              "      <td>65.71</td>\n",
              "    </tr>\n",
              "    <tr>\n",
              "      <th>3</th>\n",
              "      <td>ba78997921bbcdc1373bb41e913ab953</td>\n",
              "      <td>1</td>\n",
              "      <td>credit_card</td>\n",
              "      <td>8</td>\n",
              "      <td>107.78</td>\n",
              "    </tr>\n",
              "    <tr>\n",
              "      <th>4</th>\n",
              "      <td>42fdf880ba16b47b59251dd489d4441a</td>\n",
              "      <td>1</td>\n",
              "      <td>credit_card</td>\n",
              "      <td>2</td>\n",
              "      <td>128.45</td>\n",
              "    </tr>\n",
              "  </tbody>\n",
              "</table>\n",
              "</div>"
            ],
            "text/plain": [
              "                           order_id  payment_sequential payment_type  \\\n",
              "0  b81ef226f3fe1789b1e8b2acac839d17                   1  credit_card   \n",
              "1  a9810da82917af2d9aefd1278f1dcfa0                   1  credit_card   \n",
              "2  25e8ea4e93396b6fa0d3dd708e76c1bd                   1  credit_card   \n",
              "3  ba78997921bbcdc1373bb41e913ab953                   1  credit_card   \n",
              "4  42fdf880ba16b47b59251dd489d4441a                   1  credit_card   \n",
              "\n",
              "   payment_installments  payment_value  \n",
              "0                     8          99.33  \n",
              "1                     1          24.39  \n",
              "2                     1          65.71  \n",
              "3                     8         107.78  \n",
              "4                     2         128.45  "
            ]
          },
          "execution_count": 154,
          "metadata": {},
          "output_type": "execute_result"
        }
      ],
      "source": [
        "order_payment_df = pd.read_csv(\"https://raw.githubusercontent.com/AprilizaVina/submission/main/data/order_payments_dataset\")\n",
        "order_payment_df.head()"
      ]
    },
    {
      "cell_type": "markdown",
      "metadata": {},
      "source": [
        "#### Menambahkan Data Products"
      ]
    },
    {
      "cell_type": "code",
      "execution_count": 155,
      "metadata": {},
      "outputs": [
        {
          "data": {
            "text/html": [
              "<div>\n",
              "<style scoped>\n",
              "    .dataframe tbody tr th:only-of-type {\n",
              "        vertical-align: middle;\n",
              "    }\n",
              "\n",
              "    .dataframe tbody tr th {\n",
              "        vertical-align: top;\n",
              "    }\n",
              "\n",
              "    .dataframe thead th {\n",
              "        text-align: right;\n",
              "    }\n",
              "</style>\n",
              "<table border=\"1\" class=\"dataframe\">\n",
              "  <thead>\n",
              "    <tr style=\"text-align: right;\">\n",
              "      <th></th>\n",
              "      <th>product_id</th>\n",
              "      <th>product_category_name</th>\n",
              "      <th>product_name_lenght</th>\n",
              "      <th>product_description_lenght</th>\n",
              "      <th>product_photos_qty</th>\n",
              "      <th>product_weight_g</th>\n",
              "      <th>product_length_cm</th>\n",
              "      <th>product_height_cm</th>\n",
              "      <th>product_width_cm</th>\n",
              "    </tr>\n",
              "  </thead>\n",
              "  <tbody>\n",
              "    <tr>\n",
              "      <th>0</th>\n",
              "      <td>1e9e8ef04dbcff4541ed26657ea517e5</td>\n",
              "      <td>perfumaria</td>\n",
              "      <td>40.0</td>\n",
              "      <td>287.0</td>\n",
              "      <td>1.0</td>\n",
              "      <td>225.0</td>\n",
              "      <td>16.0</td>\n",
              "      <td>10.0</td>\n",
              "      <td>14.0</td>\n",
              "    </tr>\n",
              "    <tr>\n",
              "      <th>1</th>\n",
              "      <td>3aa071139cb16b67ca9e5dea641aaa2f</td>\n",
              "      <td>artes</td>\n",
              "      <td>44.0</td>\n",
              "      <td>276.0</td>\n",
              "      <td>1.0</td>\n",
              "      <td>1000.0</td>\n",
              "      <td>30.0</td>\n",
              "      <td>18.0</td>\n",
              "      <td>20.0</td>\n",
              "    </tr>\n",
              "    <tr>\n",
              "      <th>2</th>\n",
              "      <td>96bd76ec8810374ed1b65e291975717f</td>\n",
              "      <td>esporte_lazer</td>\n",
              "      <td>46.0</td>\n",
              "      <td>250.0</td>\n",
              "      <td>1.0</td>\n",
              "      <td>154.0</td>\n",
              "      <td>18.0</td>\n",
              "      <td>9.0</td>\n",
              "      <td>15.0</td>\n",
              "    </tr>\n",
              "    <tr>\n",
              "      <th>3</th>\n",
              "      <td>cef67bcfe19066a932b7673e239eb23d</td>\n",
              "      <td>bebes</td>\n",
              "      <td>27.0</td>\n",
              "      <td>261.0</td>\n",
              "      <td>1.0</td>\n",
              "      <td>371.0</td>\n",
              "      <td>26.0</td>\n",
              "      <td>4.0</td>\n",
              "      <td>26.0</td>\n",
              "    </tr>\n",
              "    <tr>\n",
              "      <th>4</th>\n",
              "      <td>9dc1a7de274444849c219cff195d0b71</td>\n",
              "      <td>utilidades_domesticas</td>\n",
              "      <td>37.0</td>\n",
              "      <td>402.0</td>\n",
              "      <td>4.0</td>\n",
              "      <td>625.0</td>\n",
              "      <td>20.0</td>\n",
              "      <td>17.0</td>\n",
              "      <td>13.0</td>\n",
              "    </tr>\n",
              "  </tbody>\n",
              "</table>\n",
              "</div>"
            ],
            "text/plain": [
              "                         product_id  product_category_name  \\\n",
              "0  1e9e8ef04dbcff4541ed26657ea517e5             perfumaria   \n",
              "1  3aa071139cb16b67ca9e5dea641aaa2f                  artes   \n",
              "2  96bd76ec8810374ed1b65e291975717f          esporte_lazer   \n",
              "3  cef67bcfe19066a932b7673e239eb23d                  bebes   \n",
              "4  9dc1a7de274444849c219cff195d0b71  utilidades_domesticas   \n",
              "\n",
              "   product_name_lenght  product_description_lenght  product_photos_qty  \\\n",
              "0                 40.0                       287.0                 1.0   \n",
              "1                 44.0                       276.0                 1.0   \n",
              "2                 46.0                       250.0                 1.0   \n",
              "3                 27.0                       261.0                 1.0   \n",
              "4                 37.0                       402.0                 4.0   \n",
              "\n",
              "   product_weight_g  product_length_cm  product_height_cm  product_width_cm  \n",
              "0             225.0               16.0               10.0              14.0  \n",
              "1            1000.0               30.0               18.0              20.0  \n",
              "2             154.0               18.0                9.0              15.0  \n",
              "3             371.0               26.0                4.0              26.0  \n",
              "4             625.0               20.0               17.0              13.0  "
            ]
          },
          "execution_count": 155,
          "metadata": {},
          "output_type": "execute_result"
        }
      ],
      "source": [
        "products_df = pd.read_csv(\"https://raw.githubusercontent.com/AprilizaVina/submission/main/data/products_dataset\")\n",
        "products_df.head()"
      ]
    },
    {
      "cell_type": "markdown",
      "metadata": {},
      "source": [
        "#### Menambahkan Data Order Items"
      ]
    },
    {
      "cell_type": "code",
      "execution_count": 156,
      "metadata": {},
      "outputs": [
        {
          "data": {
            "text/html": [
              "<div>\n",
              "<style scoped>\n",
              "    .dataframe tbody tr th:only-of-type {\n",
              "        vertical-align: middle;\n",
              "    }\n",
              "\n",
              "    .dataframe tbody tr th {\n",
              "        vertical-align: top;\n",
              "    }\n",
              "\n",
              "    .dataframe thead th {\n",
              "        text-align: right;\n",
              "    }\n",
              "</style>\n",
              "<table border=\"1\" class=\"dataframe\">\n",
              "  <thead>\n",
              "    <tr style=\"text-align: right;\">\n",
              "      <th></th>\n",
              "      <th>order_id</th>\n",
              "      <th>order_item_id</th>\n",
              "      <th>product_id</th>\n",
              "      <th>seller_id</th>\n",
              "      <th>shipping_limit_date</th>\n",
              "      <th>price</th>\n",
              "      <th>freight_value</th>\n",
              "    </tr>\n",
              "  </thead>\n",
              "  <tbody>\n",
              "    <tr>\n",
              "      <th>0</th>\n",
              "      <td>00010242fe8c5a6d1ba2dd792cb16214</td>\n",
              "      <td>1</td>\n",
              "      <td>4244733e06e7ecb4970a6e2683c13e61</td>\n",
              "      <td>48436dade18ac8b2bce089ec2a041202</td>\n",
              "      <td>2017-09-19 09:45:35</td>\n",
              "      <td>58.90</td>\n",
              "      <td>13.29</td>\n",
              "    </tr>\n",
              "    <tr>\n",
              "      <th>1</th>\n",
              "      <td>00018f77f2f0320c557190d7a144bdd3</td>\n",
              "      <td>1</td>\n",
              "      <td>e5f2d52b802189ee658865ca93d83a8f</td>\n",
              "      <td>dd7ddc04e1b6c2c614352b383efe2d36</td>\n",
              "      <td>2017-05-03 11:05:13</td>\n",
              "      <td>239.90</td>\n",
              "      <td>19.93</td>\n",
              "    </tr>\n",
              "    <tr>\n",
              "      <th>2</th>\n",
              "      <td>000229ec398224ef6ca0657da4fc703e</td>\n",
              "      <td>1</td>\n",
              "      <td>c777355d18b72b67abbeef9df44fd0fd</td>\n",
              "      <td>5b51032eddd242adc84c38acab88f23d</td>\n",
              "      <td>2018-01-18 14:48:30</td>\n",
              "      <td>199.00</td>\n",
              "      <td>17.87</td>\n",
              "    </tr>\n",
              "    <tr>\n",
              "      <th>3</th>\n",
              "      <td>00024acbcdf0a6daa1e931b038114c75</td>\n",
              "      <td>1</td>\n",
              "      <td>7634da152a4610f1595efa32f14722fc</td>\n",
              "      <td>9d7a1d34a5052409006425275ba1c2b4</td>\n",
              "      <td>2018-08-15 10:10:18</td>\n",
              "      <td>12.99</td>\n",
              "      <td>12.79</td>\n",
              "    </tr>\n",
              "    <tr>\n",
              "      <th>4</th>\n",
              "      <td>00042b26cf59d7ce69dfabb4e55b4fd9</td>\n",
              "      <td>1</td>\n",
              "      <td>ac6c3623068f30de03045865e4e10089</td>\n",
              "      <td>df560393f3a51e74553ab94004ba5c87</td>\n",
              "      <td>2017-02-13 13:57:51</td>\n",
              "      <td>199.90</td>\n",
              "      <td>18.14</td>\n",
              "    </tr>\n",
              "  </tbody>\n",
              "</table>\n",
              "</div>"
            ],
            "text/plain": [
              "                           order_id  order_item_id  \\\n",
              "0  00010242fe8c5a6d1ba2dd792cb16214              1   \n",
              "1  00018f77f2f0320c557190d7a144bdd3              1   \n",
              "2  000229ec398224ef6ca0657da4fc703e              1   \n",
              "3  00024acbcdf0a6daa1e931b038114c75              1   \n",
              "4  00042b26cf59d7ce69dfabb4e55b4fd9              1   \n",
              "\n",
              "                         product_id                         seller_id  \\\n",
              "0  4244733e06e7ecb4970a6e2683c13e61  48436dade18ac8b2bce089ec2a041202   \n",
              "1  e5f2d52b802189ee658865ca93d83a8f  dd7ddc04e1b6c2c614352b383efe2d36   \n",
              "2  c777355d18b72b67abbeef9df44fd0fd  5b51032eddd242adc84c38acab88f23d   \n",
              "3  7634da152a4610f1595efa32f14722fc  9d7a1d34a5052409006425275ba1c2b4   \n",
              "4  ac6c3623068f30de03045865e4e10089  df560393f3a51e74553ab94004ba5c87   \n",
              "\n",
              "   shipping_limit_date   price  freight_value  \n",
              "0  2017-09-19 09:45:35   58.90          13.29  \n",
              "1  2017-05-03 11:05:13  239.90          19.93  \n",
              "2  2018-01-18 14:48:30  199.00          17.87  \n",
              "3  2018-08-15 10:10:18   12.99          12.79  \n",
              "4  2017-02-13 13:57:51  199.90          18.14  "
            ]
          },
          "execution_count": 156,
          "metadata": {},
          "output_type": "execute_result"
        }
      ],
      "source": [
        "order_items_df = pd.read_csv(\"https://raw.githubusercontent.com/AprilizaVina/submission/main/data/order_items_dataset\")\n",
        "order_items_df.head()"
      ]
    },
    {
      "cell_type": "markdown",
      "metadata": {},
      "source": [
        "#### Menambahkan Data Sellers"
      ]
    },
    {
      "cell_type": "code",
      "execution_count": 157,
      "metadata": {},
      "outputs": [
        {
          "data": {
            "text/html": [
              "<div>\n",
              "<style scoped>\n",
              "    .dataframe tbody tr th:only-of-type {\n",
              "        vertical-align: middle;\n",
              "    }\n",
              "\n",
              "    .dataframe tbody tr th {\n",
              "        vertical-align: top;\n",
              "    }\n",
              "\n",
              "    .dataframe thead th {\n",
              "        text-align: right;\n",
              "    }\n",
              "</style>\n",
              "<table border=\"1\" class=\"dataframe\">\n",
              "  <thead>\n",
              "    <tr style=\"text-align: right;\">\n",
              "      <th></th>\n",
              "      <th>seller_id</th>\n",
              "      <th>seller_zip_code_prefix</th>\n",
              "      <th>seller_city</th>\n",
              "      <th>seller_state</th>\n",
              "    </tr>\n",
              "  </thead>\n",
              "  <tbody>\n",
              "    <tr>\n",
              "      <th>0</th>\n",
              "      <td>3442f8959a84dea7ee197c632cb2df15</td>\n",
              "      <td>13023</td>\n",
              "      <td>campinas</td>\n",
              "      <td>SP</td>\n",
              "    </tr>\n",
              "    <tr>\n",
              "      <th>1</th>\n",
              "      <td>d1b65fc7debc3361ea86b5f14c68d2e2</td>\n",
              "      <td>13844</td>\n",
              "      <td>mogi guacu</td>\n",
              "      <td>SP</td>\n",
              "    </tr>\n",
              "    <tr>\n",
              "      <th>2</th>\n",
              "      <td>ce3ad9de960102d0677a81f5d0bb7b2d</td>\n",
              "      <td>20031</td>\n",
              "      <td>rio de janeiro</td>\n",
              "      <td>RJ</td>\n",
              "    </tr>\n",
              "    <tr>\n",
              "      <th>3</th>\n",
              "      <td>c0f3eea2e14555b6faeea3dd58c1b1c3</td>\n",
              "      <td>4195</td>\n",
              "      <td>sao paulo</td>\n",
              "      <td>SP</td>\n",
              "    </tr>\n",
              "    <tr>\n",
              "      <th>4</th>\n",
              "      <td>51a04a8a6bdcb23deccc82b0b80742cf</td>\n",
              "      <td>12914</td>\n",
              "      <td>braganca paulista</td>\n",
              "      <td>SP</td>\n",
              "    </tr>\n",
              "  </tbody>\n",
              "</table>\n",
              "</div>"
            ],
            "text/plain": [
              "                          seller_id  seller_zip_code_prefix  \\\n",
              "0  3442f8959a84dea7ee197c632cb2df15                   13023   \n",
              "1  d1b65fc7debc3361ea86b5f14c68d2e2                   13844   \n",
              "2  ce3ad9de960102d0677a81f5d0bb7b2d                   20031   \n",
              "3  c0f3eea2e14555b6faeea3dd58c1b1c3                    4195   \n",
              "4  51a04a8a6bdcb23deccc82b0b80742cf                   12914   \n",
              "\n",
              "         seller_city seller_state  \n",
              "0           campinas           SP  \n",
              "1         mogi guacu           SP  \n",
              "2     rio de janeiro           RJ  \n",
              "3          sao paulo           SP  \n",
              "4  braganca paulista           SP  "
            ]
          },
          "execution_count": 157,
          "metadata": {},
          "output_type": "execute_result"
        }
      ],
      "source": [
        "sellers_df = pd.read_csv(\"https://raw.githubusercontent.com/AprilizaVina/submission/main/data/sellers_dataset\")\n",
        "sellers_df.head()"
      ]
    },
    {
      "cell_type": "markdown",
      "metadata": {
        "id": "FHSiqaZp8DC1"
      },
      "source": [
        "### Assessing Data"
      ]
    },
    {
      "cell_type": "markdown",
      "metadata": {},
      "source": [
        "#### Menilai Tabel Payments"
      ]
    },
    {
      "cell_type": "code",
      "execution_count": 158,
      "metadata": {
        "id": "ax-3tEjc9Cj1"
      },
      "outputs": [
        {
          "name": "stdout",
          "output_type": "stream",
          "text": [
            "<class 'pandas.core.frame.DataFrame'>\n",
            "RangeIndex: 103886 entries, 0 to 103885\n",
            "Data columns (total 5 columns):\n",
            " #   Column                Non-Null Count   Dtype  \n",
            "---  ------                --------------   -----  \n",
            " 0   order_id              103886 non-null  object \n",
            " 1   payment_sequential    103886 non-null  int64  \n",
            " 2   payment_type          103886 non-null  object \n",
            " 3   payment_installments  103886 non-null  int64  \n",
            " 4   payment_value         103886 non-null  float64\n",
            "dtypes: float64(1), int64(2), object(2)\n",
            "memory usage: 4.0+ MB\n"
          ]
        }
      ],
      "source": [
        "order_payment_df.info()"
      ]
    },
    {
      "cell_type": "code",
      "execution_count": 159,
      "metadata": {},
      "outputs": [
        {
          "name": "stdout",
          "output_type": "stream",
          "text": [
            "Jumlah duplikasi:  0\n"
          ]
        }
      ],
      "source": [
        "print(\"Jumlah duplikasi: \",order_payment_df.duplicated().sum())"
      ]
    },
    {
      "cell_type": "code",
      "execution_count": 160,
      "metadata": {},
      "outputs": [
        {
          "data": {
            "text/html": [
              "<div>\n",
              "<style scoped>\n",
              "    .dataframe tbody tr th:only-of-type {\n",
              "        vertical-align: middle;\n",
              "    }\n",
              "\n",
              "    .dataframe tbody tr th {\n",
              "        vertical-align: top;\n",
              "    }\n",
              "\n",
              "    .dataframe thead th {\n",
              "        text-align: right;\n",
              "    }\n",
              "</style>\n",
              "<table border=\"1\" class=\"dataframe\">\n",
              "  <thead>\n",
              "    <tr style=\"text-align: right;\">\n",
              "      <th></th>\n",
              "      <th>payment_sequential</th>\n",
              "      <th>payment_installments</th>\n",
              "      <th>payment_value</th>\n",
              "    </tr>\n",
              "  </thead>\n",
              "  <tbody>\n",
              "    <tr>\n",
              "      <th>count</th>\n",
              "      <td>103886.000000</td>\n",
              "      <td>103886.000000</td>\n",
              "      <td>103886.000000</td>\n",
              "    </tr>\n",
              "    <tr>\n",
              "      <th>mean</th>\n",
              "      <td>1.092679</td>\n",
              "      <td>2.853349</td>\n",
              "      <td>154.100380</td>\n",
              "    </tr>\n",
              "    <tr>\n",
              "      <th>std</th>\n",
              "      <td>0.706584</td>\n",
              "      <td>2.687051</td>\n",
              "      <td>217.494064</td>\n",
              "    </tr>\n",
              "    <tr>\n",
              "      <th>min</th>\n",
              "      <td>1.000000</td>\n",
              "      <td>0.000000</td>\n",
              "      <td>0.000000</td>\n",
              "    </tr>\n",
              "    <tr>\n",
              "      <th>25%</th>\n",
              "      <td>1.000000</td>\n",
              "      <td>1.000000</td>\n",
              "      <td>56.790000</td>\n",
              "    </tr>\n",
              "    <tr>\n",
              "      <th>50%</th>\n",
              "      <td>1.000000</td>\n",
              "      <td>1.000000</td>\n",
              "      <td>100.000000</td>\n",
              "    </tr>\n",
              "    <tr>\n",
              "      <th>75%</th>\n",
              "      <td>1.000000</td>\n",
              "      <td>4.000000</td>\n",
              "      <td>171.837500</td>\n",
              "    </tr>\n",
              "    <tr>\n",
              "      <th>max</th>\n",
              "      <td>29.000000</td>\n",
              "      <td>24.000000</td>\n",
              "      <td>13664.080000</td>\n",
              "    </tr>\n",
              "  </tbody>\n",
              "</table>\n",
              "</div>"
            ],
            "text/plain": [
              "       payment_sequential  payment_installments  payment_value\n",
              "count       103886.000000         103886.000000  103886.000000\n",
              "mean             1.092679              2.853349     154.100380\n",
              "std              0.706584              2.687051     217.494064\n",
              "min              1.000000              0.000000       0.000000\n",
              "25%              1.000000              1.000000      56.790000\n",
              "50%              1.000000              1.000000     100.000000\n",
              "75%              1.000000              4.000000     171.837500\n",
              "max             29.000000             24.000000   13664.080000"
            ]
          },
          "execution_count": 160,
          "metadata": {},
          "output_type": "execute_result"
        }
      ],
      "source": [
        "order_payment_df.describe()"
      ]
    },
    {
      "cell_type": "markdown",
      "metadata": {},
      "source": [
        "#### Manilai Tabel Products"
      ]
    },
    {
      "cell_type": "code",
      "execution_count": 161,
      "metadata": {},
      "outputs": [
        {
          "name": "stdout",
          "output_type": "stream",
          "text": [
            "<class 'pandas.core.frame.DataFrame'>\n",
            "RangeIndex: 32951 entries, 0 to 32950\n",
            "Data columns (total 9 columns):\n",
            " #   Column                      Non-Null Count  Dtype  \n",
            "---  ------                      --------------  -----  \n",
            " 0   product_id                  32951 non-null  object \n",
            " 1   product_category_name       32341 non-null  object \n",
            " 2   product_name_lenght         32341 non-null  float64\n",
            " 3   product_description_lenght  32341 non-null  float64\n",
            " 4   product_photos_qty          32341 non-null  float64\n",
            " 5   product_weight_g            32949 non-null  float64\n",
            " 6   product_length_cm           32949 non-null  float64\n",
            " 7   product_height_cm           32949 non-null  float64\n",
            " 8   product_width_cm            32949 non-null  float64\n",
            "dtypes: float64(7), object(2)\n",
            "memory usage: 2.3+ MB\n"
          ]
        }
      ],
      "source": [
        "products_df.info()"
      ]
    },
    {
      "cell_type": "code",
      "execution_count": 162,
      "metadata": {},
      "outputs": [
        {
          "data": {
            "text/plain": [
              "product_id                      0\n",
              "product_category_name         610\n",
              "product_name_lenght           610\n",
              "product_description_lenght    610\n",
              "product_photos_qty            610\n",
              "product_weight_g                2\n",
              "product_length_cm               2\n",
              "product_height_cm               2\n",
              "product_width_cm                2\n",
              "dtype: int64"
            ]
          },
          "execution_count": 162,
          "metadata": {},
          "output_type": "execute_result"
        }
      ],
      "source": [
        "products_df.isna().sum()"
      ]
    },
    {
      "cell_type": "code",
      "execution_count": 163,
      "metadata": {},
      "outputs": [
        {
          "name": "stdout",
          "output_type": "stream",
          "text": [
            "Jumlah duplikasi:  0\n"
          ]
        }
      ],
      "source": [
        "print(\"Jumlah duplikasi: \", products_df.duplicated().sum())"
      ]
    },
    {
      "cell_type": "code",
      "execution_count": 164,
      "metadata": {},
      "outputs": [
        {
          "data": {
            "text/html": [
              "<div>\n",
              "<style scoped>\n",
              "    .dataframe tbody tr th:only-of-type {\n",
              "        vertical-align: middle;\n",
              "    }\n",
              "\n",
              "    .dataframe tbody tr th {\n",
              "        vertical-align: top;\n",
              "    }\n",
              "\n",
              "    .dataframe thead th {\n",
              "        text-align: right;\n",
              "    }\n",
              "</style>\n",
              "<table border=\"1\" class=\"dataframe\">\n",
              "  <thead>\n",
              "    <tr style=\"text-align: right;\">\n",
              "      <th></th>\n",
              "      <th>product_name_lenght</th>\n",
              "      <th>product_description_lenght</th>\n",
              "      <th>product_photos_qty</th>\n",
              "      <th>product_weight_g</th>\n",
              "      <th>product_length_cm</th>\n",
              "      <th>product_height_cm</th>\n",
              "      <th>product_width_cm</th>\n",
              "    </tr>\n",
              "  </thead>\n",
              "  <tbody>\n",
              "    <tr>\n",
              "      <th>count</th>\n",
              "      <td>32341.000000</td>\n",
              "      <td>32341.000000</td>\n",
              "      <td>32341.000000</td>\n",
              "      <td>32949.000000</td>\n",
              "      <td>32949.000000</td>\n",
              "      <td>32949.000000</td>\n",
              "      <td>32949.000000</td>\n",
              "    </tr>\n",
              "    <tr>\n",
              "      <th>mean</th>\n",
              "      <td>48.476949</td>\n",
              "      <td>771.495285</td>\n",
              "      <td>2.188986</td>\n",
              "      <td>2276.472488</td>\n",
              "      <td>30.815078</td>\n",
              "      <td>16.937661</td>\n",
              "      <td>23.196728</td>\n",
              "    </tr>\n",
              "    <tr>\n",
              "      <th>std</th>\n",
              "      <td>10.245741</td>\n",
              "      <td>635.115225</td>\n",
              "      <td>1.736766</td>\n",
              "      <td>4282.038731</td>\n",
              "      <td>16.914458</td>\n",
              "      <td>13.637554</td>\n",
              "      <td>12.079047</td>\n",
              "    </tr>\n",
              "    <tr>\n",
              "      <th>min</th>\n",
              "      <td>5.000000</td>\n",
              "      <td>4.000000</td>\n",
              "      <td>1.000000</td>\n",
              "      <td>0.000000</td>\n",
              "      <td>7.000000</td>\n",
              "      <td>2.000000</td>\n",
              "      <td>6.000000</td>\n",
              "    </tr>\n",
              "    <tr>\n",
              "      <th>25%</th>\n",
              "      <td>42.000000</td>\n",
              "      <td>339.000000</td>\n",
              "      <td>1.000000</td>\n",
              "      <td>300.000000</td>\n",
              "      <td>18.000000</td>\n",
              "      <td>8.000000</td>\n",
              "      <td>15.000000</td>\n",
              "    </tr>\n",
              "    <tr>\n",
              "      <th>50%</th>\n",
              "      <td>51.000000</td>\n",
              "      <td>595.000000</td>\n",
              "      <td>1.000000</td>\n",
              "      <td>700.000000</td>\n",
              "      <td>25.000000</td>\n",
              "      <td>13.000000</td>\n",
              "      <td>20.000000</td>\n",
              "    </tr>\n",
              "    <tr>\n",
              "      <th>75%</th>\n",
              "      <td>57.000000</td>\n",
              "      <td>972.000000</td>\n",
              "      <td>3.000000</td>\n",
              "      <td>1900.000000</td>\n",
              "      <td>38.000000</td>\n",
              "      <td>21.000000</td>\n",
              "      <td>30.000000</td>\n",
              "    </tr>\n",
              "    <tr>\n",
              "      <th>max</th>\n",
              "      <td>76.000000</td>\n",
              "      <td>3992.000000</td>\n",
              "      <td>20.000000</td>\n",
              "      <td>40425.000000</td>\n",
              "      <td>105.000000</td>\n",
              "      <td>105.000000</td>\n",
              "      <td>118.000000</td>\n",
              "    </tr>\n",
              "  </tbody>\n",
              "</table>\n",
              "</div>"
            ],
            "text/plain": [
              "       product_name_lenght  product_description_lenght  product_photos_qty  \\\n",
              "count         32341.000000                32341.000000        32341.000000   \n",
              "mean             48.476949                  771.495285            2.188986   \n",
              "std              10.245741                  635.115225            1.736766   \n",
              "min               5.000000                    4.000000            1.000000   \n",
              "25%              42.000000                  339.000000            1.000000   \n",
              "50%              51.000000                  595.000000            1.000000   \n",
              "75%              57.000000                  972.000000            3.000000   \n",
              "max              76.000000                 3992.000000           20.000000   \n",
              "\n",
              "       product_weight_g  product_length_cm  product_height_cm  \\\n",
              "count      32949.000000       32949.000000       32949.000000   \n",
              "mean        2276.472488          30.815078          16.937661   \n",
              "std         4282.038731          16.914458          13.637554   \n",
              "min            0.000000           7.000000           2.000000   \n",
              "25%          300.000000          18.000000           8.000000   \n",
              "50%          700.000000          25.000000          13.000000   \n",
              "75%         1900.000000          38.000000          21.000000   \n",
              "max        40425.000000         105.000000         105.000000   \n",
              "\n",
              "       product_width_cm  \n",
              "count      32949.000000  \n",
              "mean          23.196728  \n",
              "std           12.079047  \n",
              "min            6.000000  \n",
              "25%           15.000000  \n",
              "50%           20.000000  \n",
              "75%           30.000000  \n",
              "max          118.000000  "
            ]
          },
          "execution_count": 164,
          "metadata": {},
          "output_type": "execute_result"
        }
      ],
      "source": [
        "products_df.describe()"
      ]
    },
    {
      "cell_type": "markdown",
      "metadata": {},
      "source": [
        "#### Menilai Data Order Items"
      ]
    },
    {
      "cell_type": "code",
      "execution_count": 165,
      "metadata": {},
      "outputs": [
        {
          "name": "stdout",
          "output_type": "stream",
          "text": [
            "<class 'pandas.core.frame.DataFrame'>\n",
            "RangeIndex: 112650 entries, 0 to 112649\n",
            "Data columns (total 7 columns):\n",
            " #   Column               Non-Null Count   Dtype  \n",
            "---  ------               --------------   -----  \n",
            " 0   order_id             112650 non-null  object \n",
            " 1   order_item_id        112650 non-null  int64  \n",
            " 2   product_id           112650 non-null  object \n",
            " 3   seller_id            112650 non-null  object \n",
            " 4   shipping_limit_date  112650 non-null  object \n",
            " 5   price                112650 non-null  float64\n",
            " 6   freight_value        112650 non-null  float64\n",
            "dtypes: float64(2), int64(1), object(4)\n",
            "memory usage: 6.0+ MB\n"
          ]
        }
      ],
      "source": [
        "order_items_df.info()"
      ]
    },
    {
      "cell_type": "code",
      "execution_count": 166,
      "metadata": {},
      "outputs": [
        {
          "name": "stdout",
          "output_type": "stream",
          "text": [
            "Jumlah duplikasi:  0\n"
          ]
        }
      ],
      "source": [
        "print(\"Jumlah duplikasi: \",order_items_df.duplicated().sum())"
      ]
    },
    {
      "cell_type": "code",
      "execution_count": 167,
      "metadata": {},
      "outputs": [
        {
          "data": {
            "text/html": [
              "<div>\n",
              "<style scoped>\n",
              "    .dataframe tbody tr th:only-of-type {\n",
              "        vertical-align: middle;\n",
              "    }\n",
              "\n",
              "    .dataframe tbody tr th {\n",
              "        vertical-align: top;\n",
              "    }\n",
              "\n",
              "    .dataframe thead th {\n",
              "        text-align: right;\n",
              "    }\n",
              "</style>\n",
              "<table border=\"1\" class=\"dataframe\">\n",
              "  <thead>\n",
              "    <tr style=\"text-align: right;\">\n",
              "      <th></th>\n",
              "      <th>payment_sequential</th>\n",
              "      <th>payment_installments</th>\n",
              "      <th>payment_value</th>\n",
              "    </tr>\n",
              "  </thead>\n",
              "  <tbody>\n",
              "    <tr>\n",
              "      <th>count</th>\n",
              "      <td>103886.000000</td>\n",
              "      <td>103886.000000</td>\n",
              "      <td>103886.000000</td>\n",
              "    </tr>\n",
              "    <tr>\n",
              "      <th>mean</th>\n",
              "      <td>1.092679</td>\n",
              "      <td>2.853349</td>\n",
              "      <td>154.100380</td>\n",
              "    </tr>\n",
              "    <tr>\n",
              "      <th>std</th>\n",
              "      <td>0.706584</td>\n",
              "      <td>2.687051</td>\n",
              "      <td>217.494064</td>\n",
              "    </tr>\n",
              "    <tr>\n",
              "      <th>min</th>\n",
              "      <td>1.000000</td>\n",
              "      <td>0.000000</td>\n",
              "      <td>0.000000</td>\n",
              "    </tr>\n",
              "    <tr>\n",
              "      <th>25%</th>\n",
              "      <td>1.000000</td>\n",
              "      <td>1.000000</td>\n",
              "      <td>56.790000</td>\n",
              "    </tr>\n",
              "    <tr>\n",
              "      <th>50%</th>\n",
              "      <td>1.000000</td>\n",
              "      <td>1.000000</td>\n",
              "      <td>100.000000</td>\n",
              "    </tr>\n",
              "    <tr>\n",
              "      <th>75%</th>\n",
              "      <td>1.000000</td>\n",
              "      <td>4.000000</td>\n",
              "      <td>171.837500</td>\n",
              "    </tr>\n",
              "    <tr>\n",
              "      <th>max</th>\n",
              "      <td>29.000000</td>\n",
              "      <td>24.000000</td>\n",
              "      <td>13664.080000</td>\n",
              "    </tr>\n",
              "  </tbody>\n",
              "</table>\n",
              "</div>"
            ],
            "text/plain": [
              "       payment_sequential  payment_installments  payment_value\n",
              "count       103886.000000         103886.000000  103886.000000\n",
              "mean             1.092679              2.853349     154.100380\n",
              "std              0.706584              2.687051     217.494064\n",
              "min              1.000000              0.000000       0.000000\n",
              "25%              1.000000              1.000000      56.790000\n",
              "50%              1.000000              1.000000     100.000000\n",
              "75%              1.000000              4.000000     171.837500\n",
              "max             29.000000             24.000000   13664.080000"
            ]
          },
          "execution_count": 167,
          "metadata": {},
          "output_type": "execute_result"
        }
      ],
      "source": [
        "order_payment_df.describe()"
      ]
    },
    {
      "cell_type": "markdown",
      "metadata": {},
      "source": [
        "#### Menilai Data Sellers"
      ]
    },
    {
      "cell_type": "code",
      "execution_count": 168,
      "metadata": {},
      "outputs": [
        {
          "name": "stdout",
          "output_type": "stream",
          "text": [
            "<class 'pandas.core.frame.DataFrame'>\n",
            "RangeIndex: 3095 entries, 0 to 3094\n",
            "Data columns (total 4 columns):\n",
            " #   Column                  Non-Null Count  Dtype \n",
            "---  ------                  --------------  ----- \n",
            " 0   seller_id               3095 non-null   object\n",
            " 1   seller_zip_code_prefix  3095 non-null   int64 \n",
            " 2   seller_city             3095 non-null   object\n",
            " 3   seller_state            3095 non-null   object\n",
            "dtypes: int64(1), object(3)\n",
            "memory usage: 96.8+ KB\n"
          ]
        }
      ],
      "source": [
        "sellers_df.info()"
      ]
    },
    {
      "cell_type": "code",
      "execution_count": 169,
      "metadata": {},
      "outputs": [
        {
          "name": "stdout",
          "output_type": "stream",
          "text": [
            "Jumlah duplikasi:  0\n"
          ]
        }
      ],
      "source": [
        "print(\"Jumlah duplikasi: \",sellers_df.duplicated().sum())"
      ]
    },
    {
      "cell_type": "code",
      "execution_count": 170,
      "metadata": {},
      "outputs": [
        {
          "data": {
            "text/html": [
              "<div>\n",
              "<style scoped>\n",
              "    .dataframe tbody tr th:only-of-type {\n",
              "        vertical-align: middle;\n",
              "    }\n",
              "\n",
              "    .dataframe tbody tr th {\n",
              "        vertical-align: top;\n",
              "    }\n",
              "\n",
              "    .dataframe thead th {\n",
              "        text-align: right;\n",
              "    }\n",
              "</style>\n",
              "<table border=\"1\" class=\"dataframe\">\n",
              "  <thead>\n",
              "    <tr style=\"text-align: right;\">\n",
              "      <th></th>\n",
              "      <th>seller_zip_code_prefix</th>\n",
              "    </tr>\n",
              "  </thead>\n",
              "  <tbody>\n",
              "    <tr>\n",
              "      <th>count</th>\n",
              "      <td>3095.000000</td>\n",
              "    </tr>\n",
              "    <tr>\n",
              "      <th>mean</th>\n",
              "      <td>32291.059451</td>\n",
              "    </tr>\n",
              "    <tr>\n",
              "      <th>std</th>\n",
              "      <td>32713.453830</td>\n",
              "    </tr>\n",
              "    <tr>\n",
              "      <th>min</th>\n",
              "      <td>1001.000000</td>\n",
              "    </tr>\n",
              "    <tr>\n",
              "      <th>25%</th>\n",
              "      <td>7093.500000</td>\n",
              "    </tr>\n",
              "    <tr>\n",
              "      <th>50%</th>\n",
              "      <td>14940.000000</td>\n",
              "    </tr>\n",
              "    <tr>\n",
              "      <th>75%</th>\n",
              "      <td>64552.500000</td>\n",
              "    </tr>\n",
              "    <tr>\n",
              "      <th>max</th>\n",
              "      <td>99730.000000</td>\n",
              "    </tr>\n",
              "  </tbody>\n",
              "</table>\n",
              "</div>"
            ],
            "text/plain": [
              "       seller_zip_code_prefix\n",
              "count             3095.000000\n",
              "mean             32291.059451\n",
              "std              32713.453830\n",
              "min               1001.000000\n",
              "25%               7093.500000\n",
              "50%              14940.000000\n",
              "75%              64552.500000\n",
              "max              99730.000000"
            ]
          },
          "execution_count": 170,
          "metadata": {},
          "output_type": "execute_result"
        }
      ],
      "source": [
        "sellers_df.describe()"
      ]
    },
    {
      "cell_type": "markdown",
      "metadata": {
        "id": "EhN5R4hr8DC1"
      },
      "source": [
        "### Cleaning Data"
      ]
    },
    {
      "cell_type": "markdown",
      "metadata": {},
      "source": [
        "#### Menangani Missing Value dari Data Products"
      ]
    },
    {
      "cell_type": "code",
      "execution_count": 171,
      "metadata": {
        "id": "jVnYpprE9Evz"
      },
      "outputs": [
        {
          "data": {
            "text/html": [
              "<div>\n",
              "<style scoped>\n",
              "    .dataframe tbody tr th:only-of-type {\n",
              "        vertical-align: middle;\n",
              "    }\n",
              "\n",
              "    .dataframe tbody tr th {\n",
              "        vertical-align: top;\n",
              "    }\n",
              "\n",
              "    .dataframe thead th {\n",
              "        text-align: right;\n",
              "    }\n",
              "</style>\n",
              "<table border=\"1\" class=\"dataframe\">\n",
              "  <thead>\n",
              "    <tr style=\"text-align: right;\">\n",
              "      <th></th>\n",
              "      <th>product_id</th>\n",
              "      <th>product_category_name</th>\n",
              "      <th>product_name_lenght</th>\n",
              "      <th>product_description_lenght</th>\n",
              "      <th>product_photos_qty</th>\n",
              "      <th>product_weight_g</th>\n",
              "      <th>product_length_cm</th>\n",
              "      <th>product_height_cm</th>\n",
              "      <th>product_width_cm</th>\n",
              "    </tr>\n",
              "  </thead>\n",
              "  <tbody>\n",
              "    <tr>\n",
              "      <th>105</th>\n",
              "      <td>a41e356c76fab66334f36de622ecbd3a</td>\n",
              "      <td>NaN</td>\n",
              "      <td>NaN</td>\n",
              "      <td>NaN</td>\n",
              "      <td>NaN</td>\n",
              "      <td>650.0</td>\n",
              "      <td>17.0</td>\n",
              "      <td>14.0</td>\n",
              "      <td>12.0</td>\n",
              "    </tr>\n",
              "    <tr>\n",
              "      <th>128</th>\n",
              "      <td>d8dee61c2034d6d075997acef1870e9b</td>\n",
              "      <td>NaN</td>\n",
              "      <td>NaN</td>\n",
              "      <td>NaN</td>\n",
              "      <td>NaN</td>\n",
              "      <td>300.0</td>\n",
              "      <td>16.0</td>\n",
              "      <td>7.0</td>\n",
              "      <td>20.0</td>\n",
              "    </tr>\n",
              "    <tr>\n",
              "      <th>145</th>\n",
              "      <td>56139431d72cd51f19eb9f7dae4d1617</td>\n",
              "      <td>NaN</td>\n",
              "      <td>NaN</td>\n",
              "      <td>NaN</td>\n",
              "      <td>NaN</td>\n",
              "      <td>200.0</td>\n",
              "      <td>20.0</td>\n",
              "      <td>20.0</td>\n",
              "      <td>20.0</td>\n",
              "    </tr>\n",
              "    <tr>\n",
              "      <th>154</th>\n",
              "      <td>46b48281eb6d663ced748f324108c733</td>\n",
              "      <td>NaN</td>\n",
              "      <td>NaN</td>\n",
              "      <td>NaN</td>\n",
              "      <td>NaN</td>\n",
              "      <td>18500.0</td>\n",
              "      <td>41.0</td>\n",
              "      <td>30.0</td>\n",
              "      <td>41.0</td>\n",
              "    </tr>\n",
              "    <tr>\n",
              "      <th>197</th>\n",
              "      <td>5fb61f482620cb672f5e586bb132eae9</td>\n",
              "      <td>NaN</td>\n",
              "      <td>NaN</td>\n",
              "      <td>NaN</td>\n",
              "      <td>NaN</td>\n",
              "      <td>300.0</td>\n",
              "      <td>35.0</td>\n",
              "      <td>7.0</td>\n",
              "      <td>12.0</td>\n",
              "    </tr>\n",
              "    <tr>\n",
              "      <th>...</th>\n",
              "      <td>...</td>\n",
              "      <td>...</td>\n",
              "      <td>...</td>\n",
              "      <td>...</td>\n",
              "      <td>...</td>\n",
              "      <td>...</td>\n",
              "      <td>...</td>\n",
              "      <td>...</td>\n",
              "      <td>...</td>\n",
              "    </tr>\n",
              "    <tr>\n",
              "      <th>32515</th>\n",
              "      <td>b0a0c5dd78e644373b199380612c350a</td>\n",
              "      <td>NaN</td>\n",
              "      <td>NaN</td>\n",
              "      <td>NaN</td>\n",
              "      <td>NaN</td>\n",
              "      <td>1800.0</td>\n",
              "      <td>30.0</td>\n",
              "      <td>20.0</td>\n",
              "      <td>70.0</td>\n",
              "    </tr>\n",
              "    <tr>\n",
              "      <th>32589</th>\n",
              "      <td>10dbe0fbaa2c505123c17fdc34a63c56</td>\n",
              "      <td>NaN</td>\n",
              "      <td>NaN</td>\n",
              "      <td>NaN</td>\n",
              "      <td>NaN</td>\n",
              "      <td>800.0</td>\n",
              "      <td>30.0</td>\n",
              "      <td>10.0</td>\n",
              "      <td>23.0</td>\n",
              "    </tr>\n",
              "    <tr>\n",
              "      <th>32616</th>\n",
              "      <td>bd2ada37b58ae94cc838b9c0569fecd8</td>\n",
              "      <td>NaN</td>\n",
              "      <td>NaN</td>\n",
              "      <td>NaN</td>\n",
              "      <td>NaN</td>\n",
              "      <td>200.0</td>\n",
              "      <td>21.0</td>\n",
              "      <td>8.0</td>\n",
              "      <td>16.0</td>\n",
              "    </tr>\n",
              "    <tr>\n",
              "      <th>32772</th>\n",
              "      <td>fa51e914046aab32764c41356b9d4ea4</td>\n",
              "      <td>NaN</td>\n",
              "      <td>NaN</td>\n",
              "      <td>NaN</td>\n",
              "      <td>NaN</td>\n",
              "      <td>1300.0</td>\n",
              "      <td>45.0</td>\n",
              "      <td>16.0</td>\n",
              "      <td>45.0</td>\n",
              "    </tr>\n",
              "    <tr>\n",
              "      <th>32852</th>\n",
              "      <td>c4ceee876c82b8328e9c293fa0e1989b</td>\n",
              "      <td>NaN</td>\n",
              "      <td>NaN</td>\n",
              "      <td>NaN</td>\n",
              "      <td>NaN</td>\n",
              "      <td>700.0</td>\n",
              "      <td>28.0</td>\n",
              "      <td>3.0</td>\n",
              "      <td>43.0</td>\n",
              "    </tr>\n",
              "  </tbody>\n",
              "</table>\n",
              "<p>610 rows × 9 columns</p>\n",
              "</div>"
            ],
            "text/plain": [
              "                             product_id product_category_name  \\\n",
              "105    a41e356c76fab66334f36de622ecbd3a                   NaN   \n",
              "128    d8dee61c2034d6d075997acef1870e9b                   NaN   \n",
              "145    56139431d72cd51f19eb9f7dae4d1617                   NaN   \n",
              "154    46b48281eb6d663ced748f324108c733                   NaN   \n",
              "197    5fb61f482620cb672f5e586bb132eae9                   NaN   \n",
              "...                                 ...                   ...   \n",
              "32515  b0a0c5dd78e644373b199380612c350a                   NaN   \n",
              "32589  10dbe0fbaa2c505123c17fdc34a63c56                   NaN   \n",
              "32616  bd2ada37b58ae94cc838b9c0569fecd8                   NaN   \n",
              "32772  fa51e914046aab32764c41356b9d4ea4                   NaN   \n",
              "32852  c4ceee876c82b8328e9c293fa0e1989b                   NaN   \n",
              "\n",
              "       product_name_lenght  product_description_lenght  product_photos_qty  \\\n",
              "105                    NaN                         NaN                 NaN   \n",
              "128                    NaN                         NaN                 NaN   \n",
              "145                    NaN                         NaN                 NaN   \n",
              "154                    NaN                         NaN                 NaN   \n",
              "197                    NaN                         NaN                 NaN   \n",
              "...                    ...                         ...                 ...   \n",
              "32515                  NaN                         NaN                 NaN   \n",
              "32589                  NaN                         NaN                 NaN   \n",
              "32616                  NaN                         NaN                 NaN   \n",
              "32772                  NaN                         NaN                 NaN   \n",
              "32852                  NaN                         NaN                 NaN   \n",
              "\n",
              "       product_weight_g  product_length_cm  product_height_cm  \\\n",
              "105               650.0               17.0               14.0   \n",
              "128               300.0               16.0                7.0   \n",
              "145               200.0               20.0               20.0   \n",
              "154             18500.0               41.0               30.0   \n",
              "197               300.0               35.0                7.0   \n",
              "...                 ...                ...                ...   \n",
              "32515            1800.0               30.0               20.0   \n",
              "32589             800.0               30.0               10.0   \n",
              "32616             200.0               21.0                8.0   \n",
              "32772            1300.0               45.0               16.0   \n",
              "32852             700.0               28.0                3.0   \n",
              "\n",
              "       product_width_cm  \n",
              "105                12.0  \n",
              "128                20.0  \n",
              "145                20.0  \n",
              "154                41.0  \n",
              "197                12.0  \n",
              "...                 ...  \n",
              "32515              70.0  \n",
              "32589              23.0  \n",
              "32616              16.0  \n",
              "32772              45.0  \n",
              "32852              43.0  \n",
              "\n",
              "[610 rows x 9 columns]"
            ]
          },
          "execution_count": 171,
          "metadata": {},
          "output_type": "execute_result"
        }
      ],
      "source": [
        "products_df[products_df.product_category_name.isna()]"
      ]
    },
    {
      "cell_type": "code",
      "execution_count": 172,
      "metadata": {},
      "outputs": [
        {
          "data": {
            "text/plain": [
              "product_category_name\n",
              "cama_mesa_banho                  3029\n",
              "esporte_lazer                    2867\n",
              "moveis_decoracao                 2657\n",
              "beleza_saude                     2444\n",
              "utilidades_domesticas            2335\n",
              "                                 ... \n",
              "fashion_roupa_infanto_juvenil       5\n",
              "casa_conforto_2                     5\n",
              "pc_gamer                            3\n",
              "seguros_e_servicos                  2\n",
              "cds_dvds_musicais                   1\n",
              "Name: count, Length: 73, dtype: int64"
            ]
          },
          "execution_count": 172,
          "metadata": {},
          "output_type": "execute_result"
        }
      ],
      "source": [
        "products_df.product_category_name.value_counts()"
      ]
    },
    {
      "cell_type": "code",
      "execution_count": 173,
      "metadata": {},
      "outputs": [
        {
          "name": "stderr",
          "output_type": "stream",
          "text": [
            "C:\\Users\\ACER\\AppData\\Local\\Temp\\ipykernel_15860\\1627234901.py:1: FutureWarning: Setting an item of incompatible dtype is deprecated and will raise an error in a future version of pandas. Value 'cama_mesa_banho' has dtype incompatible with float64, please explicitly cast to a compatible dtype first.\n",
            "  products_df.fillna(value=\"cama_mesa_banho\", inplace=True)\n"
          ]
        }
      ],
      "source": [
        "products_df.fillna(value=\"cama_mesa_banho\", inplace=True)"
      ]
    },
    {
      "cell_type": "code",
      "execution_count": 174,
      "metadata": {},
      "outputs": [
        {
          "data": {
            "text/plain": [
              "product_id                    0\n",
              "product_category_name         0\n",
              "product_name_lenght           0\n",
              "product_description_lenght    0\n",
              "product_photos_qty            0\n",
              "product_weight_g              0\n",
              "product_length_cm             0\n",
              "product_height_cm             0\n",
              "product_width_cm              0\n",
              "dtype: int64"
            ]
          },
          "execution_count": 174,
          "metadata": {},
          "output_type": "execute_result"
        }
      ],
      "source": [
        "products_df.isna().sum()"
      ]
    },
    {
      "cell_type": "markdown",
      "metadata": {
        "id": "gp-Y6wU38DC1"
      },
      "source": [
        "## Exploratory Data Analysis (EDA)"
      ]
    },
    {
      "cell_type": "markdown",
      "metadata": {
        "id": "MW7WF2kr8DC1"
      },
      "source": [
        "### Explore ..."
      ]
    },
    {
      "cell_type": "markdown",
      "metadata": {},
      "source": [
        "#### Mencari Tipe Pembayaran yang banyak digunakan"
      ]
    },
    {
      "cell_type": "code",
      "execution_count": 182,
      "metadata": {},
      "outputs": [
        {
          "data": {
            "text/html": [
              "<div>\n",
              "<style scoped>\n",
              "    .dataframe tbody tr th:only-of-type {\n",
              "        vertical-align: middle;\n",
              "    }\n",
              "\n",
              "    .dataframe tbody tr th {\n",
              "        vertical-align: top;\n",
              "    }\n",
              "\n",
              "    .dataframe thead th {\n",
              "        text-align: right;\n",
              "    }\n",
              "</style>\n",
              "<table border=\"1\" class=\"dataframe\">\n",
              "  <thead>\n",
              "    <tr style=\"text-align: right;\">\n",
              "      <th></th>\n",
              "      <th>order_id</th>\n",
              "      <th>order_item_id</th>\n",
              "      <th>product_id</th>\n",
              "      <th>seller_id</th>\n",
              "      <th>shipping_limit_date</th>\n",
              "      <th>price</th>\n",
              "      <th>freight_value</th>\n",
              "      <th>payment_sequential</th>\n",
              "      <th>payment_type</th>\n",
              "      <th>payment_installments</th>\n",
              "      <th>payment_value</th>\n",
              "    </tr>\n",
              "  </thead>\n",
              "  <tbody>\n",
              "    <tr>\n",
              "      <th>0</th>\n",
              "      <td>00010242fe8c5a6d1ba2dd792cb16214</td>\n",
              "      <td>1</td>\n",
              "      <td>4244733e06e7ecb4970a6e2683c13e61</td>\n",
              "      <td>48436dade18ac8b2bce089ec2a041202</td>\n",
              "      <td>2017-09-19 09:45:35</td>\n",
              "      <td>58.90</td>\n",
              "      <td>13.29</td>\n",
              "      <td>1.0</td>\n",
              "      <td>credit_card</td>\n",
              "      <td>2.0</td>\n",
              "      <td>72.19</td>\n",
              "    </tr>\n",
              "    <tr>\n",
              "      <th>1</th>\n",
              "      <td>00018f77f2f0320c557190d7a144bdd3</td>\n",
              "      <td>1</td>\n",
              "      <td>e5f2d52b802189ee658865ca93d83a8f</td>\n",
              "      <td>dd7ddc04e1b6c2c614352b383efe2d36</td>\n",
              "      <td>2017-05-03 11:05:13</td>\n",
              "      <td>239.90</td>\n",
              "      <td>19.93</td>\n",
              "      <td>1.0</td>\n",
              "      <td>credit_card</td>\n",
              "      <td>3.0</td>\n",
              "      <td>259.83</td>\n",
              "    </tr>\n",
              "    <tr>\n",
              "      <th>2</th>\n",
              "      <td>000229ec398224ef6ca0657da4fc703e</td>\n",
              "      <td>1</td>\n",
              "      <td>c777355d18b72b67abbeef9df44fd0fd</td>\n",
              "      <td>5b51032eddd242adc84c38acab88f23d</td>\n",
              "      <td>2018-01-18 14:48:30</td>\n",
              "      <td>199.00</td>\n",
              "      <td>17.87</td>\n",
              "      <td>1.0</td>\n",
              "      <td>credit_card</td>\n",
              "      <td>5.0</td>\n",
              "      <td>216.87</td>\n",
              "    </tr>\n",
              "    <tr>\n",
              "      <th>3</th>\n",
              "      <td>00024acbcdf0a6daa1e931b038114c75</td>\n",
              "      <td>1</td>\n",
              "      <td>7634da152a4610f1595efa32f14722fc</td>\n",
              "      <td>9d7a1d34a5052409006425275ba1c2b4</td>\n",
              "      <td>2018-08-15 10:10:18</td>\n",
              "      <td>12.99</td>\n",
              "      <td>12.79</td>\n",
              "      <td>1.0</td>\n",
              "      <td>credit_card</td>\n",
              "      <td>2.0</td>\n",
              "      <td>25.78</td>\n",
              "    </tr>\n",
              "    <tr>\n",
              "      <th>4</th>\n",
              "      <td>00042b26cf59d7ce69dfabb4e55b4fd9</td>\n",
              "      <td>1</td>\n",
              "      <td>ac6c3623068f30de03045865e4e10089</td>\n",
              "      <td>df560393f3a51e74553ab94004ba5c87</td>\n",
              "      <td>2017-02-13 13:57:51</td>\n",
              "      <td>199.90</td>\n",
              "      <td>18.14</td>\n",
              "      <td>1.0</td>\n",
              "      <td>credit_card</td>\n",
              "      <td>3.0</td>\n",
              "      <td>218.04</td>\n",
              "    </tr>\n",
              "  </tbody>\n",
              "</table>\n",
              "</div>"
            ],
            "text/plain": [
              "                           order_id  order_item_id  \\\n",
              "0  00010242fe8c5a6d1ba2dd792cb16214              1   \n",
              "1  00018f77f2f0320c557190d7a144bdd3              1   \n",
              "2  000229ec398224ef6ca0657da4fc703e              1   \n",
              "3  00024acbcdf0a6daa1e931b038114c75              1   \n",
              "4  00042b26cf59d7ce69dfabb4e55b4fd9              1   \n",
              "\n",
              "                         product_id                         seller_id  \\\n",
              "0  4244733e06e7ecb4970a6e2683c13e61  48436dade18ac8b2bce089ec2a041202   \n",
              "1  e5f2d52b802189ee658865ca93d83a8f  dd7ddc04e1b6c2c614352b383efe2d36   \n",
              "2  c777355d18b72b67abbeef9df44fd0fd  5b51032eddd242adc84c38acab88f23d   \n",
              "3  7634da152a4610f1595efa32f14722fc  9d7a1d34a5052409006425275ba1c2b4   \n",
              "4  ac6c3623068f30de03045865e4e10089  df560393f3a51e74553ab94004ba5c87   \n",
              "\n",
              "   shipping_limit_date   price  freight_value  payment_sequential  \\\n",
              "0  2017-09-19 09:45:35   58.90          13.29                 1.0   \n",
              "1  2017-05-03 11:05:13  239.90          19.93                 1.0   \n",
              "2  2018-01-18 14:48:30  199.00          17.87                 1.0   \n",
              "3  2018-08-15 10:10:18   12.99          12.79                 1.0   \n",
              "4  2017-02-13 13:57:51  199.90          18.14                 1.0   \n",
              "\n",
              "  payment_type  payment_installments  payment_value  \n",
              "0  credit_card                   2.0          72.19  \n",
              "1  credit_card                   3.0         259.83  \n",
              "2  credit_card                   5.0         216.87  \n",
              "3  credit_card                   2.0          25.78  \n",
              "4  credit_card                   3.0         218.04  "
            ]
          },
          "execution_count": 182,
          "metadata": {},
          "output_type": "execute_result"
        }
      ],
      "source": [
        "all_df = pd.merge(\n",
        "    left=order_items_df,\n",
        "    right=order_payment_df,\n",
        "    how=\"left\",\n",
        "    left_on=\"order_id\",\n",
        "    right_on=\"order_id\"\n",
        ")\n",
        "all_df.head()"
      ]
    },
    {
      "cell_type": "code",
      "execution_count": 176,
      "metadata": {
        "id": "e9CQCZjk8DC2"
      },
      "outputs": [
        {
          "data": {
            "text/plain": [
              "payment_type\n",
              "credit_card    102941\n",
              "boleto          28640\n",
              "voucher          7105\n",
              "debit_card       1953\n",
              "Name: order_item_id, dtype: int64"
            ]
          },
          "execution_count": 176,
          "metadata": {},
          "output_type": "execute_result"
        }
      ],
      "source": [
        "all_df.groupby(by=\"payment_type\").order_item_id.sum().sort_values(ascending=False)"
      ]
    },
    {
      "cell_type": "markdown",
      "metadata": {},
      "source": [
        "#### Mencari Produk yang paling banyak terjual"
      ]
    },
    {
      "cell_type": "code",
      "execution_count": 177,
      "metadata": {},
      "outputs": [
        {
          "data": {
            "text/html": [
              "<div>\n",
              "<style scoped>\n",
              "    .dataframe tbody tr th:only-of-type {\n",
              "        vertical-align: middle;\n",
              "    }\n",
              "\n",
              "    .dataframe tbody tr th {\n",
              "        vertical-align: top;\n",
              "    }\n",
              "\n",
              "    .dataframe thead th {\n",
              "        text-align: right;\n",
              "    }\n",
              "</style>\n",
              "<table border=\"1\" class=\"dataframe\">\n",
              "  <thead>\n",
              "    <tr style=\"text-align: right;\">\n",
              "      <th></th>\n",
              "      <th>product_id</th>\n",
              "      <th>product_category_name</th>\n",
              "      <th>product_name_lenght</th>\n",
              "      <th>product_description_lenght</th>\n",
              "      <th>product_photos_qty</th>\n",
              "      <th>product_weight_g</th>\n",
              "      <th>product_length_cm</th>\n",
              "      <th>product_height_cm</th>\n",
              "      <th>product_width_cm</th>\n",
              "      <th>order_id</th>\n",
              "      <th>order_item_id</th>\n",
              "      <th>seller_id</th>\n",
              "      <th>shipping_limit_date</th>\n",
              "      <th>price</th>\n",
              "      <th>freight_value</th>\n",
              "    </tr>\n",
              "  </thead>\n",
              "  <tbody>\n",
              "    <tr>\n",
              "      <th>0</th>\n",
              "      <td>1e9e8ef04dbcff4541ed26657ea517e5</td>\n",
              "      <td>perfumaria</td>\n",
              "      <td>40.0</td>\n",
              "      <td>287.0</td>\n",
              "      <td>1.0</td>\n",
              "      <td>225.0</td>\n",
              "      <td>16.0</td>\n",
              "      <td>10.0</td>\n",
              "      <td>14.0</td>\n",
              "      <td>e17e4f88e31525f7deef66779844ddce</td>\n",
              "      <td>1</td>\n",
              "      <td>5670f4db5b62c43d542e1b2d56b0cf7c</td>\n",
              "      <td>2018-04-30 17:33:54</td>\n",
              "      <td>10.91</td>\n",
              "      <td>7.39</td>\n",
              "    </tr>\n",
              "    <tr>\n",
              "      <th>1</th>\n",
              "      <td>3aa071139cb16b67ca9e5dea641aaa2f</td>\n",
              "      <td>artes</td>\n",
              "      <td>44.0</td>\n",
              "      <td>276.0</td>\n",
              "      <td>1.0</td>\n",
              "      <td>1000.0</td>\n",
              "      <td>30.0</td>\n",
              "      <td>18.0</td>\n",
              "      <td>20.0</td>\n",
              "      <td>5236307716393b7114b53ee991f36956</td>\n",
              "      <td>1</td>\n",
              "      <td>b561927807645834b59ef0d16ba55a24</td>\n",
              "      <td>2018-02-06 19:11:15</td>\n",
              "      <td>248.00</td>\n",
              "      <td>17.99</td>\n",
              "    </tr>\n",
              "    <tr>\n",
              "      <th>2</th>\n",
              "      <td>96bd76ec8810374ed1b65e291975717f</td>\n",
              "      <td>esporte_lazer</td>\n",
              "      <td>46.0</td>\n",
              "      <td>250.0</td>\n",
              "      <td>1.0</td>\n",
              "      <td>154.0</td>\n",
              "      <td>18.0</td>\n",
              "      <td>9.0</td>\n",
              "      <td>15.0</td>\n",
              "      <td>01f66e58769f84129811d43eefd187fb</td>\n",
              "      <td>1</td>\n",
              "      <td>7b07b3c7487f0ea825fc6df75abd658b</td>\n",
              "      <td>2018-07-11 21:30:20</td>\n",
              "      <td>79.80</td>\n",
              "      <td>7.82</td>\n",
              "    </tr>\n",
              "    <tr>\n",
              "      <th>3</th>\n",
              "      <td>cef67bcfe19066a932b7673e239eb23d</td>\n",
              "      <td>bebes</td>\n",
              "      <td>27.0</td>\n",
              "      <td>261.0</td>\n",
              "      <td>1.0</td>\n",
              "      <td>371.0</td>\n",
              "      <td>26.0</td>\n",
              "      <td>4.0</td>\n",
              "      <td>26.0</td>\n",
              "      <td>143d00a4f2dde4e0364ee1821577adb3</td>\n",
              "      <td>1</td>\n",
              "      <td>c510bc1718f0f2961eaa42a23330681a</td>\n",
              "      <td>2018-08-07 09:10:13</td>\n",
              "      <td>112.30</td>\n",
              "      <td>9.54</td>\n",
              "    </tr>\n",
              "    <tr>\n",
              "      <th>4</th>\n",
              "      <td>9dc1a7de274444849c219cff195d0b71</td>\n",
              "      <td>utilidades_domesticas</td>\n",
              "      <td>37.0</td>\n",
              "      <td>402.0</td>\n",
              "      <td>4.0</td>\n",
              "      <td>625.0</td>\n",
              "      <td>20.0</td>\n",
              "      <td>17.0</td>\n",
              "      <td>13.0</td>\n",
              "      <td>86cafb8794cb99a9b1b77fc8e48fbbbb</td>\n",
              "      <td>1</td>\n",
              "      <td>0be8ff43f22e456b4e0371b2245e4d01</td>\n",
              "      <td>2018-04-17 01:30:23</td>\n",
              "      <td>37.90</td>\n",
              "      <td>8.29</td>\n",
              "    </tr>\n",
              "  </tbody>\n",
              "</table>\n",
              "</div>"
            ],
            "text/plain": [
              "                         product_id  product_category_name  \\\n",
              "0  1e9e8ef04dbcff4541ed26657ea517e5             perfumaria   \n",
              "1  3aa071139cb16b67ca9e5dea641aaa2f                  artes   \n",
              "2  96bd76ec8810374ed1b65e291975717f          esporte_lazer   \n",
              "3  cef67bcfe19066a932b7673e239eb23d                  bebes   \n",
              "4  9dc1a7de274444849c219cff195d0b71  utilidades_domesticas   \n",
              "\n",
              "  product_name_lenght product_description_lenght product_photos_qty  \\\n",
              "0                40.0                      287.0                1.0   \n",
              "1                44.0                      276.0                1.0   \n",
              "2                46.0                      250.0                1.0   \n",
              "3                27.0                      261.0                1.0   \n",
              "4                37.0                      402.0                4.0   \n",
              "\n",
              "  product_weight_g product_length_cm product_height_cm product_width_cm  \\\n",
              "0            225.0              16.0              10.0             14.0   \n",
              "1           1000.0              30.0              18.0             20.0   \n",
              "2            154.0              18.0               9.0             15.0   \n",
              "3            371.0              26.0               4.0             26.0   \n",
              "4            625.0              20.0              17.0             13.0   \n",
              "\n",
              "                           order_id  order_item_id  \\\n",
              "0  e17e4f88e31525f7deef66779844ddce              1   \n",
              "1  5236307716393b7114b53ee991f36956              1   \n",
              "2  01f66e58769f84129811d43eefd187fb              1   \n",
              "3  143d00a4f2dde4e0364ee1821577adb3              1   \n",
              "4  86cafb8794cb99a9b1b77fc8e48fbbbb              1   \n",
              "\n",
              "                          seller_id  shipping_limit_date   price  \\\n",
              "0  5670f4db5b62c43d542e1b2d56b0cf7c  2018-04-30 17:33:54   10.91   \n",
              "1  b561927807645834b59ef0d16ba55a24  2018-02-06 19:11:15  248.00   \n",
              "2  7b07b3c7487f0ea825fc6df75abd658b  2018-07-11 21:30:20   79.80   \n",
              "3  c510bc1718f0f2961eaa42a23330681a  2018-08-07 09:10:13  112.30   \n",
              "4  0be8ff43f22e456b4e0371b2245e4d01  2018-04-17 01:30:23   37.90   \n",
              "\n",
              "   freight_value  \n",
              "0           7.39  \n",
              "1          17.99  \n",
              "2           7.82  \n",
              "3           9.54  \n",
              "4           8.29  "
            ]
          },
          "execution_count": 177,
          "metadata": {},
          "output_type": "execute_result"
        }
      ],
      "source": [
        "all_df = pd.merge(\n",
        "    left=products_df,\n",
        "    right=order_items_df,\n",
        "    how=\"left\",\n",
        "    left_on=\"product_id\",\n",
        "    right_on=\"product_id\"\n",
        ")\n",
        "all_df.head()"
      ]
    },
    {
      "cell_type": "code",
      "execution_count": 178,
      "metadata": {},
      "outputs": [
        {
          "data": {
            "text/plain": [
              "product_category_name\n",
              "cama_mesa_banho           15543\n",
              "moveis_decoracao          11540\n",
              "beleza_saude              11081\n",
              "esporte_lazer              9932\n",
              "informatica_acessorios     9874\n",
              "utilidades_domesticas      9051\n",
              "relogios_presentes         6594\n",
              "ferramentas_jardim         5874\n",
              "telefonia                  5161\n",
              "automotivo                 4881\n",
              "Name: order_item_id, dtype: int64"
            ]
          },
          "execution_count": 178,
          "metadata": {},
          "output_type": "execute_result"
        }
      ],
      "source": [
        "all_df.groupby(by=\"product_category_name\").order_item_id.sum().sort_values(ascending=False).head(10)"
      ]
    },
    {
      "cell_type": "markdown",
      "metadata": {},
      "source": [
        "#### Mencari Kota dengan rate penjualan tertinggi"
      ]
    },
    {
      "cell_type": "code",
      "execution_count": 179,
      "metadata": {},
      "outputs": [
        {
          "data": {
            "text/html": [
              "<div>\n",
              "<style scoped>\n",
              "    .dataframe tbody tr th:only-of-type {\n",
              "        vertical-align: middle;\n",
              "    }\n",
              "\n",
              "    .dataframe tbody tr th {\n",
              "        vertical-align: top;\n",
              "    }\n",
              "\n",
              "    .dataframe thead th {\n",
              "        text-align: right;\n",
              "    }\n",
              "</style>\n",
              "<table border=\"1\" class=\"dataframe\">\n",
              "  <thead>\n",
              "    <tr style=\"text-align: right;\">\n",
              "      <th></th>\n",
              "      <th>order_id</th>\n",
              "      <th>order_item_id</th>\n",
              "      <th>product_id</th>\n",
              "      <th>seller_id</th>\n",
              "      <th>shipping_limit_date</th>\n",
              "      <th>price</th>\n",
              "      <th>freight_value</th>\n",
              "      <th>seller_zip_code_prefix</th>\n",
              "      <th>seller_city</th>\n",
              "      <th>seller_state</th>\n",
              "    </tr>\n",
              "  </thead>\n",
              "  <tbody>\n",
              "    <tr>\n",
              "      <th>0</th>\n",
              "      <td>00010242fe8c5a6d1ba2dd792cb16214</td>\n",
              "      <td>1</td>\n",
              "      <td>4244733e06e7ecb4970a6e2683c13e61</td>\n",
              "      <td>48436dade18ac8b2bce089ec2a041202</td>\n",
              "      <td>2017-09-19 09:45:35</td>\n",
              "      <td>58.90</td>\n",
              "      <td>13.29</td>\n",
              "      <td>27277</td>\n",
              "      <td>volta redonda</td>\n",
              "      <td>SP</td>\n",
              "    </tr>\n",
              "    <tr>\n",
              "      <th>1</th>\n",
              "      <td>00018f77f2f0320c557190d7a144bdd3</td>\n",
              "      <td>1</td>\n",
              "      <td>e5f2d52b802189ee658865ca93d83a8f</td>\n",
              "      <td>dd7ddc04e1b6c2c614352b383efe2d36</td>\n",
              "      <td>2017-05-03 11:05:13</td>\n",
              "      <td>239.90</td>\n",
              "      <td>19.93</td>\n",
              "      <td>3471</td>\n",
              "      <td>sao paulo</td>\n",
              "      <td>SP</td>\n",
              "    </tr>\n",
              "    <tr>\n",
              "      <th>2</th>\n",
              "      <td>000229ec398224ef6ca0657da4fc703e</td>\n",
              "      <td>1</td>\n",
              "      <td>c777355d18b72b67abbeef9df44fd0fd</td>\n",
              "      <td>5b51032eddd242adc84c38acab88f23d</td>\n",
              "      <td>2018-01-18 14:48:30</td>\n",
              "      <td>199.00</td>\n",
              "      <td>17.87</td>\n",
              "      <td>37564</td>\n",
              "      <td>borda da mata</td>\n",
              "      <td>MG</td>\n",
              "    </tr>\n",
              "    <tr>\n",
              "      <th>3</th>\n",
              "      <td>00024acbcdf0a6daa1e931b038114c75</td>\n",
              "      <td>1</td>\n",
              "      <td>7634da152a4610f1595efa32f14722fc</td>\n",
              "      <td>9d7a1d34a5052409006425275ba1c2b4</td>\n",
              "      <td>2018-08-15 10:10:18</td>\n",
              "      <td>12.99</td>\n",
              "      <td>12.79</td>\n",
              "      <td>14403</td>\n",
              "      <td>franca</td>\n",
              "      <td>SP</td>\n",
              "    </tr>\n",
              "    <tr>\n",
              "      <th>4</th>\n",
              "      <td>00042b26cf59d7ce69dfabb4e55b4fd9</td>\n",
              "      <td>1</td>\n",
              "      <td>ac6c3623068f30de03045865e4e10089</td>\n",
              "      <td>df560393f3a51e74553ab94004ba5c87</td>\n",
              "      <td>2017-02-13 13:57:51</td>\n",
              "      <td>199.90</td>\n",
              "      <td>18.14</td>\n",
              "      <td>87900</td>\n",
              "      <td>loanda</td>\n",
              "      <td>PR</td>\n",
              "    </tr>\n",
              "  </tbody>\n",
              "</table>\n",
              "</div>"
            ],
            "text/plain": [
              "                           order_id  order_item_id  \\\n",
              "0  00010242fe8c5a6d1ba2dd792cb16214              1   \n",
              "1  00018f77f2f0320c557190d7a144bdd3              1   \n",
              "2  000229ec398224ef6ca0657da4fc703e              1   \n",
              "3  00024acbcdf0a6daa1e931b038114c75              1   \n",
              "4  00042b26cf59d7ce69dfabb4e55b4fd9              1   \n",
              "\n",
              "                         product_id                         seller_id  \\\n",
              "0  4244733e06e7ecb4970a6e2683c13e61  48436dade18ac8b2bce089ec2a041202   \n",
              "1  e5f2d52b802189ee658865ca93d83a8f  dd7ddc04e1b6c2c614352b383efe2d36   \n",
              "2  c777355d18b72b67abbeef9df44fd0fd  5b51032eddd242adc84c38acab88f23d   \n",
              "3  7634da152a4610f1595efa32f14722fc  9d7a1d34a5052409006425275ba1c2b4   \n",
              "4  ac6c3623068f30de03045865e4e10089  df560393f3a51e74553ab94004ba5c87   \n",
              "\n",
              "   shipping_limit_date   price  freight_value  seller_zip_code_prefix  \\\n",
              "0  2017-09-19 09:45:35   58.90          13.29                   27277   \n",
              "1  2017-05-03 11:05:13  239.90          19.93                    3471   \n",
              "2  2018-01-18 14:48:30  199.00          17.87                   37564   \n",
              "3  2018-08-15 10:10:18   12.99          12.79                   14403   \n",
              "4  2017-02-13 13:57:51  199.90          18.14                   87900   \n",
              "\n",
              "     seller_city seller_state  \n",
              "0  volta redonda           SP  \n",
              "1      sao paulo           SP  \n",
              "2  borda da mata           MG  \n",
              "3         franca           SP  \n",
              "4         loanda           PR  "
            ]
          },
          "execution_count": 179,
          "metadata": {},
          "output_type": "execute_result"
        }
      ],
      "source": [
        "all_df = pd.merge(\n",
        "    left=order_items_df,\n",
        "    right=sellers_df,\n",
        "    how=\"left\",\n",
        "    left_on=\"seller_id\",\n",
        "    right_on=\"seller_id\"\n",
        ")\n",
        "all_df.head()"
      ]
    },
    {
      "cell_type": "code",
      "execution_count": 180,
      "metadata": {},
      "outputs": [
        {
          "data": {
            "text/plain": [
              "seller_city\n",
              "sao paulo                33946\n",
              "ibitinga                  9542\n",
              "sao jose do rio preto     3659\n",
              "santo andre               3516\n",
              "curitiba                  3497\n",
              "rio de janeiro            2912\n",
              "belo horizonte            2847\n",
              "guarulhos                 2839\n",
              "maringa                   2777\n",
              "ribeirao preto            2696\n",
              "Name: order_item_id, dtype: int64"
            ]
          },
          "execution_count": 180,
          "metadata": {},
          "output_type": "execute_result"
        }
      ],
      "source": [
        "all_df.groupby(by=\"seller_city\").order_item_id.sum().sort_values(ascending=False).head(10)"
      ]
    },
    {
      "cell_type": "markdown",
      "metadata": {
        "id": "zsyZjqak8DC2"
      },
      "source": [
        "## Visualization & Explanatory Analysis"
      ]
    },
    {
      "cell_type": "markdown",
      "metadata": {
        "id": "HZxOiQ6n8DC2"
      },
      "source": [
        "### Pertanyaan 1: Tipe pembayaran apa yang paling banyak digunakan oleh customer?"
      ]
    },
    {
      "cell_type": "code",
      "execution_count": 183,
      "metadata": {
        "id": "1swJUdAD8DC2"
      },
      "outputs": [
        {
          "data": {
            "text/html": [
              "<div>\n",
              "<style scoped>\n",
              "    .dataframe tbody tr th:only-of-type {\n",
              "        vertical-align: middle;\n",
              "    }\n",
              "\n",
              "    .dataframe tbody tr th {\n",
              "        vertical-align: top;\n",
              "    }\n",
              "\n",
              "    .dataframe thead th {\n",
              "        text-align: right;\n",
              "    }\n",
              "</style>\n",
              "<table border=\"1\" class=\"dataframe\">\n",
              "  <thead>\n",
              "    <tr style=\"text-align: right;\">\n",
              "      <th></th>\n",
              "      <th>payment_type</th>\n",
              "      <th>order_item_id</th>\n",
              "    </tr>\n",
              "  </thead>\n",
              "  <tbody>\n",
              "    <tr>\n",
              "      <th>0</th>\n",
              "      <td>credit_card</td>\n",
              "      <td>102941</td>\n",
              "    </tr>\n",
              "    <tr>\n",
              "      <th>1</th>\n",
              "      <td>boleto</td>\n",
              "      <td>28640</td>\n",
              "    </tr>\n",
              "    <tr>\n",
              "      <th>2</th>\n",
              "      <td>voucher</td>\n",
              "      <td>7105</td>\n",
              "    </tr>\n",
              "    <tr>\n",
              "      <th>3</th>\n",
              "      <td>debit_card</td>\n",
              "      <td>1953</td>\n",
              "    </tr>\n",
              "  </tbody>\n",
              "</table>\n",
              "</div>"
            ],
            "text/plain": [
              "  payment_type  order_item_id\n",
              "0  credit_card         102941\n",
              "1       boleto          28640\n",
              "2      voucher           7105\n",
              "3   debit_card           1953"
            ]
          },
          "execution_count": 183,
          "metadata": {},
          "output_type": "execute_result"
        }
      ],
      "source": [
        "sum_order_payment_df = all_df.groupby(by=\"payment_type\").order_item_id.sum().sort_values(ascending=False).reset_index()\n",
        "sum_order_payment_df.head()"
      ]
    },
    {
      "cell_type": "code",
      "execution_count": null,
      "metadata": {},
      "outputs": [
        {
          "name": "stderr",
          "output_type": "stream",
          "text": [
            "C:\\Users\\ACER\\AppData\\Local\\Temp\\ipykernel_15860\\2894141733.py:5: FutureWarning: \n",
            "\n",
            "Passing `palette` without assigning `hue` is deprecated and will be removed in v0.14.0. Assign the `x` variable to `hue` and set `legend=False` for the same effect.\n",
            "\n",
            "  sns.barplot(x=\"payment_type\", y=\"order_item_id\", data=sum_order_payment_df.head(), palette=colors, ax=ax)\n",
            "C:\\Users\\ACER\\AppData\\Local\\Temp\\ipykernel_15860\\2894141733.py:5: UserWarning: The palette list has more values (5) than needed (4), which may not be intended.\n",
            "  sns.barplot(x=\"payment_type\", y=\"order_item_id\", data=sum_order_payment_df.head(), palette=colors, ax=ax)\n"
          ]
        },
        {
          "data": {
            "image/png": "[encoded data removed]",
            "text/plain": [
              "<Figure size 2400x600 with 1 Axes>"
            ]
          },
          "metadata": {},
          "output_type": "display_data"
        }
      ],
      "source": [
        "fig, ax = plt.subplots(nrows=1, ncols=1, figsize=(24, 6))\n",
        " \n",
        "colors = [\"#72BCD4\", \"#D3D3D3\", \"#D3D3D3\", \"#D3D3D3\", \"#D3D3D3\"]\n",
        "\n",
        "sns.barplot(x=\"payment_type\", y=\"order_item_id\", data=sum_order_payment_df.head(), palette=colors, ax=ax)\n",
        "ax.set_ylabel(None)\n",
        "ax.set_xlabel(None)\n",
        "ax.set_title(\"Payment Methods Mostly Uses\", loc=\"center\", fontsize=15)\n",
        "ax.tick_params(axis ='y', labelsize=12)"
      ]
    },
    {
      "cell_type": "markdown",
      "metadata": {
        "id": "DgHI7CiU8DC2"
      },
      "source": [
        "### Pertanyaan 2: Produk category apa yang paling banyak terjual dan paling sedikit?"
      ]
    },
    {
      "cell_type": "code",
      "execution_count": null,
      "metadata": {
        "id": "Go0lCsvO8DC2"
      },
      "outputs": [
        {
          "data": {
            "text/html": [
              "<div>\n",
              "<style scoped>\n",
              "    .dataframe tbody tr th:only-of-type {\n",
              "        vertical-align: middle;\n",
              "    }\n",
              "\n",
              "    .dataframe tbody tr th {\n",
              "        vertical-align: top;\n",
              "    }\n",
              "\n",
              "    .dataframe thead th {\n",
              "        text-align: right;\n",
              "    }\n",
              "</style>\n",
              "<table border=\"1\" class=\"dataframe\">\n",
              "  <thead>\n",
              "    <tr style=\"text-align: right;\">\n",
              "      <th></th>\n",
              "      <th>product_category_name</th>\n",
              "      <th>order_item_id</th>\n",
              "    </tr>\n",
              "  </thead>\n",
              "  <tbody>\n",
              "    <tr>\n",
              "      <th>0</th>\n",
              "      <td>cama_mesa_banho</td>\n",
              "      <td>15543</td>\n",
              "    </tr>\n",
              "    <tr>\n",
              "      <th>1</th>\n",
              "      <td>moveis_decoracao</td>\n",
              "      <td>11540</td>\n",
              "    </tr>\n",
              "    <tr>\n",
              "      <th>2</th>\n",
              "      <td>beleza_saude</td>\n",
              "      <td>11081</td>\n",
              "    </tr>\n",
              "    <tr>\n",
              "      <th>3</th>\n",
              "      <td>esporte_lazer</td>\n",
              "      <td>9932</td>\n",
              "    </tr>\n",
              "    <tr>\n",
              "      <th>4</th>\n",
              "      <td>informatica_acessorios</td>\n",
              "      <td>9874</td>\n",
              "    </tr>\n",
              "    <tr>\n",
              "      <th>5</th>\n",
              "      <td>utilidades_domesticas</td>\n",
              "      <td>9051</td>\n",
              "    </tr>\n",
              "    <tr>\n",
              "      <th>6</th>\n",
              "      <td>relogios_presentes</td>\n",
              "      <td>6594</td>\n",
              "    </tr>\n",
              "    <tr>\n",
              "      <th>7</th>\n",
              "      <td>ferramentas_jardim</td>\n",
              "      <td>5874</td>\n",
              "    </tr>\n",
              "    <tr>\n",
              "      <th>8</th>\n",
              "      <td>telefonia</td>\n",
              "      <td>5161</td>\n",
              "    </tr>\n",
              "    <tr>\n",
              "      <th>9</th>\n",
              "      <td>automotivo</td>\n",
              "      <td>4881</td>\n",
              "    </tr>\n",
              "  </tbody>\n",
              "</table>\n",
              "</div>"
            ],
            "text/plain": [
              "    product_category_name  order_item_id\n",
              "0         cama_mesa_banho          15543\n",
              "1        moveis_decoracao          11540\n",
              "2            beleza_saude          11081\n",
              "3           esporte_lazer           9932\n",
              "4  informatica_acessorios           9874\n",
              "5   utilidades_domesticas           9051\n",
              "6      relogios_presentes           6594\n",
              "7      ferramentas_jardim           5874\n",
              "8               telefonia           5161\n",
              "9              automotivo           4881"
            ]
          },
          "execution_count": 89,
          "metadata": {},
          "output_type": "execute_result"
        }
      ],
      "source": [
        "sum_product_category_df = all_df.groupby(by=\"product_category_name\").order_item_id.sum().sort_values(ascending=False).reset_index()\n",
        "sum_product_category_df.head(10)"
      ]
    },
    {
      "cell_type": "code",
      "execution_count": null,
      "metadata": {},
      "outputs": [
        {
          "name": "stderr",
          "output_type": "stream",
          "text": [
            "C:\\Users\\ACER\\AppData\\Local\\Temp\\ipykernel_15860\\3945642152.py:5: FutureWarning: \n",
            "\n",
            "Passing `palette` without assigning `hue` is deprecated and will be removed in v0.14.0. Assign the `y` variable to `hue` and set `legend=False` for the same effect.\n",
            "\n",
            "  sns.barplot(x=\"order_item_id\", y=\"product_category_name\", data=sum_product_category_df.head(5), palette=colors, ax=ax[0])\n",
            "C:\\Users\\ACER\\AppData\\Local\\Temp\\ipykernel_15860\\3945642152.py:11: FutureWarning: \n",
            "\n",
            "Passing `palette` without assigning `hue` is deprecated and will be removed in v0.14.0. Assign the `y` variable to `hue` and set `legend=False` for the same effect.\n",
            "\n",
            "  sns.barplot(x=\"order_item_id\", y=\"product_category_name\", data=sum_product_category_df.sort_values(by=\"order_item_id\", ascending=True).head(5), palette=colors, ax=ax[1])\n"
          ]
        },
        {
          "data": {
            "image/png": "[encoded data removed]",
            "text/plain": [
              "<Figure size 2400x600 with 2 Axes>"
            ]
          },
          "metadata": {},
          "output_type": "display_data"
        }
      ],
      "source": [
        "fig, ax = plt.subplots(nrows=1, ncols=2, figsize=(24, 6))\n",
        " \n",
        "colors = [\"#72BCD4\", \"#D3D3D3\", \"#D3D3D3\", \"#D3D3D3\", \"#D3D3D3\"]\n",
        " \n",
        "sns.barplot(x=\"order_item_id\", y=\"product_category_name\", data=sum_product_category_df.head(5), palette=colors, ax=ax[0])\n",
        "ax[0].set_ylabel(None)\n",
        "ax[0].set_xlabel(None)\n",
        "ax[0].set_title(\"Best Performing Product\", loc=\"center\", fontsize=15)\n",
        "ax[0].tick_params(axis ='y', labelsize=12)\n",
        " \n",
        "sns.barplot(x=\"order_item_id\", y=\"product_category_name\", data=sum_product_category_df.sort_values(by=\"order_item_id\", ascending=True).head(5), palette=colors, ax=ax[1])\n",
        "ax[1].set_ylabel(None)\n",
        "ax[1].set_xlabel(None)\n",
        "ax[1].invert_xaxis()\n",
        "ax[1].yaxis.set_label_position(\"right\")\n",
        "ax[1].yaxis.tick_right()\n",
        "ax[1].set_title(\"Worst Performing Product\", loc=\"center\", fontsize=15)\n",
        "ax[1].tick_params(axis='y', labelsize=12)\n",
        " \n",
        "plt.suptitle(\"Best and Worst Performing Product by Number of Sales\", fontsize=20)\n",
        "plt.show()"
      ]
    },
    {
      "cell_type": "markdown",
      "metadata": {},
      "source": [
        "### Pertanyaan 3: Manakah kota dengan rate penjualan tertinggi? "
      ]
    },
    {
      "cell_type": "code",
      "execution_count": null,
      "metadata": {},
      "outputs": [
        {
          "data": {
            "text/html": [
              "<div>\n",
              "<style scoped>\n",
              "    .dataframe tbody tr th:only-of-type {\n",
              "        vertical-align: middle;\n",
              "    }\n",
              "\n",
              "    .dataframe tbody tr th {\n",
              "        vertical-align: top;\n",
              "    }\n",
              "\n",
              "    .dataframe thead th {\n",
              "        text-align: right;\n",
              "    }\n",
              "</style>\n",
              "<table border=\"1\" class=\"dataframe\">\n",
              "  <thead>\n",
              "    <tr style=\"text-align: right;\">\n",
              "      <th></th>\n",
              "      <th>seller_city</th>\n",
              "      <th>order_item_id</th>\n",
              "    </tr>\n",
              "  </thead>\n",
              "  <tbody>\n",
              "    <tr>\n",
              "      <th>0</th>\n",
              "      <td>sao paulo</td>\n",
              "      <td>33946</td>\n",
              "    </tr>\n",
              "    <tr>\n",
              "      <th>1</th>\n",
              "      <td>ibitinga</td>\n",
              "      <td>9542</td>\n",
              "    </tr>\n",
              "    <tr>\n",
              "      <th>2</th>\n",
              "      <td>sao jose do rio preto</td>\n",
              "      <td>3659</td>\n",
              "    </tr>\n",
              "    <tr>\n",
              "      <th>3</th>\n",
              "      <td>santo andre</td>\n",
              "      <td>3516</td>\n",
              "    </tr>\n",
              "    <tr>\n",
              "      <th>4</th>\n",
              "      <td>curitiba</td>\n",
              "      <td>3497</td>\n",
              "    </tr>\n",
              "    <tr>\n",
              "      <th>5</th>\n",
              "      <td>rio de janeiro</td>\n",
              "      <td>2912</td>\n",
              "    </tr>\n",
              "    <tr>\n",
              "      <th>6</th>\n",
              "      <td>belo horizonte</td>\n",
              "      <td>2847</td>\n",
              "    </tr>\n",
              "    <tr>\n",
              "      <th>7</th>\n",
              "      <td>guarulhos</td>\n",
              "      <td>2839</td>\n",
              "    </tr>\n",
              "    <tr>\n",
              "      <th>8</th>\n",
              "      <td>maringa</td>\n",
              "      <td>2777</td>\n",
              "    </tr>\n",
              "    <tr>\n",
              "      <th>9</th>\n",
              "      <td>ribeirao preto</td>\n",
              "      <td>2696</td>\n",
              "    </tr>\n",
              "  </tbody>\n",
              "</table>\n",
              "</div>"
            ],
            "text/plain": [
              "             seller_city  order_item_id\n",
              "0              sao paulo          33946\n",
              "1               ibitinga           9542\n",
              "2  sao jose do rio preto           3659\n",
              "3            santo andre           3516\n",
              "4               curitiba           3497\n",
              "5         rio de janeiro           2912\n",
              "6         belo horizonte           2847\n",
              "7              guarulhos           2839\n",
              "8                maringa           2777\n",
              "9         ribeirao preto           2696"
            ]
          },
          "execution_count": 99,
          "metadata": {},
          "output_type": "execute_result"
        }
      ],
      "source": [
        "sum_seller_city_df = all_df.groupby(by=\"seller_city\").order_item_id.sum().sort_values(ascending=False).reset_index()\n",
        "sum_seller_city_df.head(10)"
      ]
    },
    {
      "cell_type": "code",
      "execution_count": null,
      "metadata": {},
      "outputs": [
        {
          "name": "stderr",
          "output_type": "stream",
          "text": [
            "C:\\Users\\ACER\\AppData\\Local\\Temp\\ipykernel_15860\\4125443535.py:5: FutureWarning: \n",
            "\n",
            "Passing `palette` without assigning `hue` is deprecated and will be removed in v0.14.0. Assign the `y` variable to `hue` and set `legend=False` for the same effect.\n",
            "\n",
            "  sns.barplot(x=\"order_item_id\", y=\"seller_city\", data=sum_seller_city_df.head(10), palette=colors, ax=ax)\n",
            "C:\\Users\\ACER\\AppData\\Local\\Temp\\ipykernel_15860\\4125443535.py:5: UserWarning: \n",
            "The palette list has fewer values (5) than needed (10) and will cycle, which may produce an uninterpretable plot.\n",
            "  sns.barplot(x=\"order_item_id\", y=\"seller_city\", data=sum_seller_city_df.head(10), palette=colors, ax=ax)\n"
          ]
        },
        {
          "data": {
            "image/png": "[encoded data removed]",
            "text/plain": [
              "<Figure size 2400x600 with 1 Axes>"
            ]
          },
          "metadata": {},
          "output_type": "display_data"
        }
      ],
      "source": [
        "fig, ax = plt.subplots(nrows=1, ncols=1, figsize=(24, 6))\n",
        " \n",
        "colors = [\"#72BCD4\", \"#D3D3D3\", \"#D3D3D3\", \"#D3D3D3\", \"#D3D3D3\"]\n",
        " \n",
        "sns.barplot(x=\"order_item_id\", y=\"seller_city\", data=sum_seller_city_df.head(10), palette=colors, ax=ax)\n",
        "ax.set_ylabel(None)\n",
        "ax.set_xlabel(None)\n",
        "ax.set_title(\"Best Performing City\", loc=\"center\", fontsize=15)\n",
        "ax.tick_params(axis ='y', labelsize=12)"
      ]
    },
    {
      "cell_type": "markdown",
      "metadata": {
        "id": "_WeHlCeX8DC2"
      },
      "source": [
        "## Conclusion"
      ]
    },
    {
      "cell_type": "markdown",
      "metadata": {
        "id": "ZTcyR48Y8DC2"
      },
      "source": [
        "- Conclusion pertanyaan 1\n",
        "Berdasarkan hasil analisis dan visualisasi, dapat ditarik kesimpulan bahwa metode pembayaran yang paling banyak digunakan oleh customers adalah credit card, diikuti oleh boleto, voucher, dan credit card. berdasarkan hasil ini, perusahaan dapat menambahkan beberapa promo menarik melalui metode pembayaran tersebut dengan melakukan kerjasama bersama berbagai bank untuk menarik lebih banyak customers berbelanja karena kemaudahan dalam metode pembayaran yang tersedia.\n",
        "- Conclusion pertanyaan 2\n",
        "Berdasarkan hasil analisis dan visualisasi, dapat ditarik kesimpulan yaitu produk yang paling banyak terjual adalah cama mesa banho, movies decoracao, beleza saude, esporte lazer, dan informatica acessorios, sedangkan produk yang paling sedikit terjual adalah protaries, la cuisine, pc gamer, fashion roupa, dan seguros e servicos. Dari hasil analisis ini, perusahaan dapat membuat langkah strategis marketing untuk menarik minat pelanggan dengan memperbanyak variasi produk yang paling banyak terjual serta melakukan evaluasi dan peningkatan variasi, marketing, atau kulaitas di produk yang kurang banyak terjual.\n",
        "- Conclusion pertanyaan 3\n",
        "Berdasarkan hasil analisis dan visulaisasi, dapat ditarik kesimpulan bahwa kota dengan penjual yang paling banyak menjual produk adalah sao paulo, ibtinga, sao jose do rio preto, santo andre, curitiba, rio de janeiro, belo horizonte, guarulhos, maringa, dan ribeirao preto. Dari hasil analisis ini, perusahaan dapat terus meningkatkan pengiriman barang yang ada di kota-kota tersebut agar barang dapat sampai kepada customers tepat pada waktunya. Selain itu, perusahan juga dapat melakukan marketing melalui seller di kota-kota tersebut untuk menaikan rate penjualan."
      ]
    }
  ],
  "metadata": {
    "colab": {
      "provenance": []
    },
    "kernelspec": {
      "display_name": "Python 3",
      "language": "python",
      "name": "python3"
    },
    "language_info": {
      "codemirror_mode": {
        "name": "ipython",
        "version": 3
      },
      "file_extension": ".py",
      "mimetype": "text/x-python",
      "name": "python",
      "nbconvert_exporter": "python",
      "pygments_lexer": "ipython3",
      "version": "3.11.8"
    },
    "orig_nbformat": 4,
    "vscode": {
      "interpreter": {
        "hash": "972b3bf27e332e87b5379f2791f6ef9dfc79c71018c370b0d7423235e20fe4d7"
      }
    }
  },
  "nbformat": 4,
  "nbformat_minor": 0
}
